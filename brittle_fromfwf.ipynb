{
 "cells": [
  {
   "cell_type": "code",
   "execution_count": 1,
   "metadata": {},
   "outputs": [],
   "source": [
    "import petl as etl"
   ]
  },
  {
   "cell_type": "code",
   "execution_count": 2,
   "metadata": {},
   "outputs": [],
   "source": [
    "from collections import OrderedDict"
   ]
  },
  {
   "cell_type": "code",
   "execution_count": 3,
   "metadata": {},
   "outputs": [],
   "source": [
    "fixed_width_text = '  18 5 2\\n2018 5 2\\n20180502'"
   ]
  },
  {
   "cell_type": "code",
   "execution_count": 4,
   "metadata": {},
   "outputs": [],
   "source": [
    "with open('fixed_width.txt', 'w') as f:\n",
    "    f.write(fixed_width_text)"
   ]
  },
  {
   "cell_type": "code",
   "execution_count": 5,
   "metadata": {},
   "outputs": [],
   "source": [
    "def field(start, end):\n",
    "    return lambda r: r.lines[start:end]"
   ]
  },
  {
   "cell_type": "code",
   "execution_count": 6,
   "metadata": {},
   "outputs": [],
   "source": [
    "def make_fixed_width_fields(**widths):\n",
    "    fields = OrderedDict()\n",
    "    start, end = 0, 0\n",
    "    for field_name, width in widths.items():\n",
    "        end += width\n",
    "        fields[field_name] = field(start, end)\n",
    "        start = end\n",
    "    return fields"
   ]
  },
  {
   "cell_type": "code",
   "execution_count": 7,
   "metadata": {},
   "outputs": [],
   "source": [
    "field_widths = OrderedDict()\n",
    "field_widths['year']    = 4\n",
    "field_widths['month']   = 2\n",
    "field_widths['day']     = 2"
   ]
  },
  {
   "cell_type": "code",
   "execution_count": 8,
   "metadata": {},
   "outputs": [],
   "source": [
    "fixed_width_fields = make_fixed_width_fields(**field_widths)"
   ]
  },
  {
   "cell_type": "code",
   "execution_count": 9,
   "metadata": {},
   "outputs": [],
   "source": [
    "lines_table = etl.fromtext('fixed_width.txt', strip='\\n')"
   ]
  },
  {
   "cell_type": "code",
   "execution_count": 10,
   "metadata": {},
   "outputs": [],
   "source": [
    "result_table = etl.fieldmap(lines_table, fixed_width_fields)"
   ]
  },
  {
   "cell_type": "code",
   "execution_count": 11,
   "metadata": {},
   "outputs": [
    {
     "data": {
      "text/html": [
       "<table class='petl'>\n",
       "<thead>\n",
       "<tr>\n",
       "<th>year</th>\n",
       "<th>month</th>\n",
       "<th>day</th>\n",
       "</tr>\n",
       "</thead>\n",
       "<tbody>\n",
       "<tr>\n",
       "<td>  18</td>\n",
       "<td> 5</td>\n",
       "<td> 2</td>\n",
       "</tr>\n",
       "<tr>\n",
       "<td>2018</td>\n",
       "<td> 5</td>\n",
       "<td> 2</td>\n",
       "</tr>\n",
       "<tr>\n",
       "<td>2018</td>\n",
       "<td>05</td>\n",
       "<td>02</td>\n",
       "</tr>\n",
       "</tbody>\n",
       "</table>\n"
      ],
      "text/plain": [
       "+--------+-------+------+\n",
       "| year   | month | day  |\n",
       "+========+=======+======+\n",
       "| '  18' | ' 5'  | ' 2' |\n",
       "+--------+-------+------+\n",
       "| '2018' | ' 5'  | ' 2' |\n",
       "+--------+-------+------+\n",
       "| '2018' | '05'  | '02' |\n",
       "+--------+-------+------+"
      ]
     },
     "execution_count": 11,
     "metadata": {},
     "output_type": "execute_result"
    }
   ],
   "source": [
    "result_table"
   ]
  },
  {
   "cell_type": "code",
   "execution_count": null,
   "metadata": {},
   "outputs": [],
   "source": []
  }
 ],
 "metadata": {
  "kernelspec": {
   "display_name": "Python 3",
   "language": "python",
   "name": "python3"
  },
  "language_info": {
   "codemirror_mode": {
    "name": "ipython",
    "version": 3
   },
   "file_extension": ".py",
   "mimetype": "text/x-python",
   "name": "python",
   "nbconvert_exporter": "python",
   "pygments_lexer": "ipython3",
   "version": "3.6.2"
  }
 },
 "nbformat": 4,
 "nbformat_minor": 1
}

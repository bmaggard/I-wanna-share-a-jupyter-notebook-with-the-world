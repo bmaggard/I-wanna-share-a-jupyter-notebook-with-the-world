{
 "cells": [
  {
   "cell_type": "code",
   "execution_count": 1,
   "metadata": {},
   "outputs": [],
   "source": [
    "from collections import OrderedDict"
   ]
  },
  {
   "cell_type": "code",
   "execution_count": 2,
   "metadata": {},
   "outputs": [],
   "source": [
    "# IRL, read from extrernal metadata / \"single config\"\n",
    "field_widths = OrderedDict()\n",
    "field_widths['year']    = 4\n",
    "field_widths['month']   = 2\n",
    "field_widths['day']     = 2"
   ]
  },
  {
   "cell_type": "code",
   "execution_count": 3,
   "metadata": {},
   "outputs": [],
   "source": [
    "import petl as etl"
   ]
  },
  {
   "cell_type": "code",
   "execution_count": 4,
   "metadata": {},
   "outputs": [],
   "source": [
    "date_parts_table = [['year', 'month', 'day'],\n",
    "    ['18',   ' 5', ' 2'],\n",
    "    ['2018', ' 5', ' 2'],\n",
    "    ['2018', '05', '02']]"
   ]
  },
  {
   "cell_type": "code",
   "execution_count": 5,
   "metadata": {},
   "outputs": [
    {
     "data": {
      "text/html": [
       "<table class='petl'>\n",
       "<thead>\n",
       "<tr>\n",
       "<th>year</th>\n",
       "<th>month</th>\n",
       "<th>day</th>\n",
       "</tr>\n",
       "</thead>\n",
       "<tbody>\n",
       "<tr>\n",
       "<td>18</td>\n",
       "<td> 5</td>\n",
       "<td> 2</td>\n",
       "</tr>\n",
       "<tr>\n",
       "<td>2018</td>\n",
       "<td> 5</td>\n",
       "<td> 2</td>\n",
       "</tr>\n",
       "<tr>\n",
       "<td>2018</td>\n",
       "<td>05</td>\n",
       "<td>02</td>\n",
       "</tr>\n",
       "</tbody>\n",
       "</table>\n"
      ],
      "text/plain": [
       "+--------+-------+------+\n",
       "| year   | month | day  |\n",
       "+========+=======+======+\n",
       "| '18'   | ' 5'  | ' 2' |\n",
       "+--------+-------+------+\n",
       "| '2018' | ' 5'  | ' 2' |\n",
       "+--------+-------+------+\n",
       "| '2018' | '05'  | '02' |\n",
       "+--------+-------+------+"
      ]
     },
     "execution_count": 5,
     "metadata": {},
     "output_type": "execute_result"
    }
   ],
   "source": [
    "etl.wrap(date_parts_table)"
   ]
  },
  {
   "cell_type": "code",
   "execution_count": 6,
   "metadata": {},
   "outputs": [],
   "source": [
    "# `width` could be more than an int, like an object specifying attributes, e.g. left/right alignment\n",
    "def make_fixed_width_template(**widths):\n",
    "    template = ''\n",
    "    for field_name, width in widths.items():\n",
    "        template += '{' + f'{field_name}:>{width}' + '}'\n",
    "    template += '\\n'\n",
    "    return template "
   ]
  },
  {
   "cell_type": "code",
   "execution_count": 7,
   "metadata": {},
   "outputs": [],
   "source": [
    "fixed_width_template = make_fixed_width_template(**field_widths)"
   ]
  },
  {
   "cell_type": "code",
   "execution_count": 8,
   "metadata": {},
   "outputs": [
    {
     "data": {
      "text/plain": [
       "'{year:>4}{month:>2}{day:>2}\\n'"
      ]
     },
     "execution_count": 8,
     "metadata": {},
     "output_type": "execute_result"
    }
   ],
   "source": [
    "fixed_width_template"
   ]
  },
  {
   "cell_type": "code",
   "execution_count": 9,
   "metadata": {},
   "outputs": [],
   "source": [
    "from pathlib import Path"
   ]
  },
  {
   "cell_type": "code",
   "execution_count": 10,
   "metadata": {},
   "outputs": [],
   "source": [
    "date_parts_file = Path('date_parts_table.txt')"
   ]
  },
  {
   "cell_type": "code",
   "execution_count": 11,
   "metadata": {},
   "outputs": [],
   "source": [
    "etl.totext(date_parts_table, date_parts_file , template=fixed_width_template)"
   ]
  },
  {
   "cell_type": "code",
   "execution_count": 12,
   "metadata": {},
   "outputs": [
    {
     "name": "stdout",
     "output_type": "stream",
     "text": [
      "  18 5 2\n",
      "2018 5 2\n",
      "20180502\n",
      "\n"
     ]
    }
   ],
   "source": [
    "print(date_parts_file.read_text())"
   ]
  },
  {
   "cell_type": "code",
   "execution_count": 13,
   "metadata": {},
   "outputs": [],
   "source": [
    "def fixed_width_field(start, end):\n",
    "    return lambda r: r.lines[start:end]"
   ]
  },
  {
   "cell_type": "code",
   "execution_count": 14,
   "metadata": {},
   "outputs": [],
   "source": [
    "def make_fixed_width_fields(**widths):\n",
    "    fields = OrderedDict()\n",
    "    start, end = 0, 0\n",
    "    for field_name, width in widths.items():\n",
    "        end += width\n",
    "        fields[field_name] = fixed_width_field(start, end)\n",
    "        start = end\n",
    "    return fields"
   ]
  },
  {
   "cell_type": "code",
   "execution_count": 15,
   "metadata": {},
   "outputs": [],
   "source": [
    "fixed_width_fields = make_fixed_width_fields(**field_widths)"
   ]
  },
  {
   "cell_type": "code",
   "execution_count": 16,
   "metadata": {},
   "outputs": [],
   "source": [
    "lines_table = etl.fromtext(date_parts_file, strip='\\n')"
   ]
  },
  {
   "cell_type": "code",
   "execution_count": 17,
   "metadata": {},
   "outputs": [],
   "source": [
    "result_table = etl.fieldmap(lines_table, fixed_width_fields)"
   ]
  },
  {
   "cell_type": "code",
   "execution_count": 18,
   "metadata": {},
   "outputs": [
    {
     "data": {
      "text/html": [
       "<table class='petl'>\n",
       "<thead>\n",
       "<tr>\n",
       "<th>year</th>\n",
       "<th>month</th>\n",
       "<th>day</th>\n",
       "</tr>\n",
       "</thead>\n",
       "<tbody>\n",
       "<tr>\n",
       "<td>  18</td>\n",
       "<td> 5</td>\n",
       "<td> 2</td>\n",
       "</tr>\n",
       "<tr>\n",
       "<td>2018</td>\n",
       "<td> 5</td>\n",
       "<td> 2</td>\n",
       "</tr>\n",
       "<tr>\n",
       "<td>2018</td>\n",
       "<td>05</td>\n",
       "<td>02</td>\n",
       "</tr>\n",
       "</tbody>\n",
       "</table>\n"
      ],
      "text/plain": [
       "+--------+-------+------+\n",
       "| year   | month | day  |\n",
       "+========+=======+======+\n",
       "| '  18' | ' 5'  | ' 2' |\n",
       "+--------+-------+------+\n",
       "| '2018' | ' 5'  | ' 2' |\n",
       "+--------+-------+------+\n",
       "| '2018' | '05'  | '02' |\n",
       "+--------+-------+------+"
      ]
     },
     "execution_count": 18,
     "metadata": {},
     "output_type": "execute_result"
    }
   ],
   "source": [
    "result_table"
   ]
  }
 ],
 "metadata": {
  "kernelspec": {
   "display_name": "Python 3",
   "language": "python",
   "name": "python3"
  },
  "language_info": {
   "codemirror_mode": {
    "name": "ipython",
    "version": 3
   },
   "file_extension": ".py",
   "mimetype": "text/x-python",
   "name": "python",
   "nbconvert_exporter": "python",
   "pygments_lexer": "ipython3",
   "version": "3.6.2"
  }
 },
 "nbformat": 4,
 "nbformat_minor": 1
}
